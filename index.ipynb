{
 "cells": [
  {
   "cell_type": "markdown",
   "metadata": {},
   "source": [
    "# Solving Systems of Linear Equations with NumPy - Lab\n",
    "\n",
    "## Introduction \n",
    "\n",
    "Now we have gathered all the required skills needed to solve systems of linear equations. We saw why need to calculate inverses of matrices, followed by matrix multiplication to figure the values of unknown variables. \n",
    "\n",
    "Following exercises present some problems that can be converted into a system of linear equations. Solve the problems for the values of unknown variables. \n",
    "\n",
    "## Objectives\n",
    "You will be able to:\n",
    "\n",
    "* Build a system of equations from given problem by creating matrix and vectors in NumPy\n",
    "* Calculate the inverse and dot-product to get the values for unknown variables.\n",
    "* Solve linear equations using `numpy.linalg.solve()`"
   ]
  },
  {
   "cell_type": "markdown",
   "metadata": {},
   "source": [
    "## Exercise 1\n",
    "\n",
    "A coffee shop is having a sale on coffee and tea. \n",
    "\n",
    "On day 1, 29 bags of coffee and 41 bags of tea was sold, giving a total of 490 dollars.\n",
    "\n",
    "On day 2, they sold 23 bags of coffee and 41 bags of tea, for which customers paid a total of 448 dollars.  \n",
    "\n",
    "How much does each bag cost?"
   ]
  },
  {
   "cell_type": "code",
   "execution_count": 34,
   "metadata": {},
   "outputs": [
    {
     "name": "stdout",
     "output_type": "stream",
     "text": [
      "\n",
      " [[7.]\n",
      " [7.]] \n",
      "\n",
      " [[7.]\n",
      " [7.]]\n"
     ]
    }
   ],
   "source": [
    "# Solution:\n",
    "import numpy as np\n",
    "day_1 = np.array([29,41])\n",
    "day_1_cost = np.array([490])\n",
    "day_2 = np.array([23,41])\n",
    "day_2_cost = np.array([448])\n",
    "\n",
    "A = np.array([day_1, day_2])\n",
    "B = np.array([day_1_cost, day_2_cost])\n",
    "\n",
    "inverse = np.linalg.inv(A)\n",
    "\n",
    "res1 = inverse.dot(B)\n",
    "res2 = np.linalg.solve(A, B)\n",
    "\n",
    "print(\"\\n\", res1, \"\\n\\n\", res2)"
   ]
  },
  {
   "cell_type": "code",
   "execution_count": 24,
   "metadata": {},
   "outputs": [],
   "source": [
    "# Explain your answer in terms of prices\n",
    "# Both the tea and the coffee cost 7 dollars"
   ]
  },
  {
   "cell_type": "markdown",
   "metadata": {},
   "source": [
    "## Exercise 2:\n",
    "\n",
    "The cost of admission to a popular music concert was 162 dollars for 12 children and 3 adults. \n",
    "\n",
    "The admission was 122 dollars for 8 children and 3 adults in another music concert. \n",
    "\n",
    "How much was the admission for each child and adult?"
   ]
  },
  {
   "cell_type": "code",
   "execution_count": 36,
   "metadata": {},
   "outputs": [
    {
     "name": "stdout",
     "output_type": "stream",
     "text": [
      "\n",
      " [[10.]\n",
      " [14.]] \n",
      "\n",
      " [[10.]\n",
      " [14.]]\n"
     ]
    }
   ],
   "source": [
    "# Create a system of equations\n",
    "cost_1 = np.array([162])\n",
    "party_1 = np.array([12,3])\n",
    "cost_2 = np.array([122])\n",
    "party_2 = np.array([8,3])\n",
    "\n",
    "\n",
    "A = np.array([party_1, party_2])\n",
    "B = np.array([cost_1, cost_2])\n",
    "\n",
    "inverse = np.linalg.inv(A)\n",
    "\n",
    "res1 = inverse.dot(B)\n",
    "res2 = np.linalg.solve(A, B)\n",
    "\n",
    "print(\"\\n\", res1, \"\\n\\n\", res2)\n",
    "\n",
    "# system of equations\n",
    "# 162 = 12*a + 3*b\n",
    "# 122 = 8*a + 3*b\n",
    "# 40 = 4*a => a = 10, plug back into the top equation\n",
    "# 162 = 120 + 3b => 42 = 3b => b = 14\n",
    "# check for the last one\n",
    "# 122 = 8*10 + 3*14 = 80 + 42 = 122 thus (a, b) = (10,14)\n",
    "\n"
   ]
  },
  {
   "cell_type": "code",
   "execution_count": 27,
   "metadata": {},
   "outputs": [],
   "source": [
    "# Describe your result\n",
    "# The price for an kids for these concerts were 10 dollars per person, but adults were a bit higher \n",
    "# at 14 dollars per person"
   ]
  },
  {
   "cell_type": "markdown",
   "metadata": {},
   "source": [
    "## Exercise 3:\n",
    "\n",
    "You want to make a certain kind of tropical punch, using bananas, oranges, and papayas. \n",
    "\n",
    "Suppose you don't know how many of each to put in the punch, but you know that there are seven pieces of fruit in the mix, and there are twice as many oranges as bananas. \n",
    "\n",
    "You also know that the seven pieces of fruit cost \\$5.25, \n",
    "\n",
    "where bananas cost \\$.50 each, oranges cost \\$.75 each, and papayas cost \\$1.25 each.\n",
    "\n",
    "How many bananas, oranges and papayas would you need to make this punch ?"
   ]
  },
  {
   "cell_type": "code",
   "execution_count": 67,
   "metadata": {},
   "outputs": [
    {
     "name": "stdout",
     "output_type": "stream",
     "text": [
      "\n",
      " [[4.]\n",
      " [2.]\n",
      " [1.]] \n",
      "\n",
      " [[4.]\n",
      " [2.]\n",
      " [1.]]\n"
     ]
    }
   ],
   "source": [
    "# Create a system of equations\n",
    "total_fruit = 7\n",
    "\n",
    "b = 1*.50\n",
    "o = 2*b*.75\n",
    "p = 1.25\n",
    "\n",
    "total_cost = 5.25\n",
    "\n",
    "A = np.matrix([[.75, .50, 1.25],[1,1,1], [1,-2,0]])\n",
    "B = np.matrix([[5.25], [7], [0]])\n",
    "\n",
    "inverse = np.linalg.inv(A)\n",
    "\n",
    "res1 = inverse.dot(B)\n",
    "res2 = np.linalg.solve(A, B)\n",
    "\n",
    "print(\"\\n\", res1, \"\\n\\n\", res2)\n"
   ]
  },
  {
   "cell_type": "markdown",
   "metadata": {},
   "source": [
    "# Explain your answer\n",
    "\n",
    "The first row is comparing the price, the second row is comparing the total number of fruits, the last row was comparing the relationship between each fruit.\n",
    "\n",
    "There are 4 oranges, 2 bananas, and one papaya\n",
    "\n"
   ]
  },
  {
   "cell_type": "markdown",
   "metadata": {},
   "source": [
    "## Exercise 4\n",
    "\n",
    "A landlord owns 3 houses, a 1-bedroom, a 2-bedroom , and a 3-bedroom house. \n",
    "\n",
    "The total rent he receives is 1240 dollars. \n",
    "\n",
    "He needs to make some repairs, where it costs 10% of the 1-bedroom house’s rent for its repairs, 20% of the 2-bedroom for its repairs, and 30% of the 3-bedroom house's rent for its repairs.  The total repair bill for all three houses was $276. \n",
    "\n",
    "The 3-bedroom house's rent is twice the 1-bedroom house’s rent. \n",
    "\n",
    "How much is the individual rent for three houses?"
   ]
  },
  {
   "cell_type": "code",
   "execution_count": 3,
   "metadata": {},
   "outputs": [],
   "source": [
    "# Create a system of equations\n",
    "total_rent = 1240\n",
    "\n",
    "b_1 = 1*.50\n",
    " = 2*b*.75\n",
    "p = 1.25\n",
    "\n",
    "total_cost = 5.25\n",
    "\n",
    "A = np.matrix([[.75, .50, 1.25],[1,1,1], [1,-2,0]])\n",
    "B = np.matrix([[5.25], [7], [0]])\n",
    "\n",
    "inverse = np.linalg.inv(A)\n",
    "\n",
    "res1 = inverse.dot(B)\n",
    "res2 = np.linalg.solve(A, B)\n",
    "\n",
    "print(\"\\n\", res1, \"\\n\\n\", res2)"
   ]
  },
  {
   "cell_type": "code",
   "execution_count": 11,
   "metadata": {},
   "outputs": [],
   "source": [
    "# Explain your answer\n"
   ]
  },
  {
   "cell_type": "markdown",
   "metadata": {},
   "source": [
    "## Summary\n",
    "In this lab, we saw how to use Numpy to solve linear equations by taking inverses and matrix multiplication and also using numpy's `.solve()`. We shall now take these skills forward and see how we can define a simple regression problem using linear algebra and solve it with numpy, only using the skills that we have learnt so far. "
   ]
  }
 ],
 "metadata": {
  "kernelspec": {
   "display_name": "Python 3",
   "language": "python",
   "name": "python3"
  },
  "language_info": {
   "codemirror_mode": {
    "name": "ipython",
    "version": 3
   },
   "file_extension": ".py",
   "mimetype": "text/x-python",
   "name": "python",
   "nbconvert_exporter": "python",
   "pygments_lexer": "ipython3",
   "version": "3.6.6"
  }
 },
 "nbformat": 4,
 "nbformat_minor": 2
}
